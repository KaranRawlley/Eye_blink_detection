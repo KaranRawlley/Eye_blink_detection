{
 "cells": [
  {
   "cell_type": "code",
   "execution_count": null,
   "metadata": {},
   "outputs": [],
   "source": [
    "from scipy.spatial import distance as dist\n",
    "import cv2\n",
    "import imutils \n",
    "from imutils import face_utils\n",
    "import numpy as np\n",
    "import dlib"
   ]
  },
  {
   "cell_type": "code",
   "execution_count": null,
   "metadata": {},
   "outputs": [],
   "source": [
    "def EAR(eye):\n",
    "    # distance between 2 set if vertical landmarks (x,y)-coordinates\n",
    "    A = dist.euclidean(eye[1], eye[5])\n",
    "    B = dist.euclidean(eye[2], eye[4])\n",
    "    # horizontal distance\n",
    "    C = dist.euclidean(eye[0],eye[3])\n",
    "    \n",
    "    # computing EAR \n",
    "    ear = (A+B)/(2.0*C)\n",
    "    return ear"
   ]
  },
  {
   "cell_type": "code",
   "execution_count": null,
   "metadata": {},
   "outputs": [],
   "source": [
    "# defining 2 constants first as a Threshold EAR \n",
    "# other for number of consecutive frames the eye must be beliow the threshold \n",
    "EAR_thresh = 0.1899\n",
    "EAR_consec_frames = 2\n",
    "\n",
    "counter = 0\n",
    "total = 0"
   ]
  },
  {
   "cell_type": "code",
   "execution_count": null,
   "metadata": {},
   "outputs": [],
   "source": [
    "# dlib's face detector\n",
    "detector = dlib.get_frontal_face_detector()\\\n",
    "# dlib's facial landmarks detector\n",
    "predictor = dlib.shape_predictor(\"shape_predictor_68_face_landmarks.dat\")"
   ]
  },
  {
   "cell_type": "code",
   "execution_count": null,
   "metadata": {},
   "outputs": [],
   "source": [
    "# geting the landmarks of lef and right eye resp.\n",
    "(lStart,lEnd) = face_utils.FACIAL_LANDMARKS_IDXS['left_eye']\n",
    "(rStart,rEnd) = face_utils.FACIAL_LANDMARKS_IDXS['right_eye']"
   ]
  },
  {
   "cell_type": "code",
   "execution_count": null,
   "metadata": {},
   "outputs": [],
   "source": [
    "cap = cv2.VideoCapture(0)\n",
    "while True:\n",
    "    check,frame = cap.read()\n",
    "   # frame = imutils.resize(frame, width=400)\n",
    "    gray=cv2.cvtColor(frame,cv2.COLOR_BGR2GRAY)\n",
    "    rects = detector(gray, 0)\n",
    "    \n",
    "    for rect in rects:\n",
    "        shape = predictor(gray, rect)\n",
    "        shape = face_utils.shape_to_np(shape)\n",
    "        \n",
    "        # extract eye coordinates\n",
    "        leftEye = shape[lStart:lEnd]\n",
    "        rightEye = shape[rStart:rEnd]\n",
    "        leftEAR = EAR(leftEye)\n",
    "        rightEAR = EAR(rightEye)\n",
    "        \n",
    "        #average EAR\n",
    "        ear = (leftEAR + rightEAR)/2.0\n",
    "        #print(ear)\n",
    "        \n",
    "        leftEyeHull = cv2.convexHull(leftEye)\n",
    "        rightEyeHull = cv2.convexHull(rightEye)\n",
    "        cv2.drawContours(frame, [leftEyeHull], -1, (0, 255, 0), 1)\n",
    "        cv2.drawContours(frame, [rightEyeHull], -1, (0, 255, 0), 1)\n",
    "        \n",
    "        \n",
    "        if ear<EAR_thresh:\n",
    "            counter+=1\n",
    "        else:\n",
    "            \n",
    "            if counter>=EAR_consec_frames:\n",
    "                total+=1\n",
    "                print(total)\n",
    "                counter=0\n",
    "                \n",
    "       \n",
    "    \n",
    " \n",
    "\n",
    " \n",
    "    cv2.imshow('Capturing',frame)\n",
    "    k = cv2.waitKey(1)\n",
    "    if k==ord('q'):\n",
    "        break\n",
    "cap.release()\n",
    "cv2.destroyAllWindows()"
   ]
  },
  {
   "cell_type": "code",
   "execution_count": null,
   "metadata": {},
   "outputs": [],
   "source": [
    "cap.release()\n",
    "cv2.destroyAllWindows()\n"
   ]
  },
  {
   "cell_type": "code",
   "execution_count": null,
   "metadata": {},
   "outputs": [],
   "source": []
  }
 ],
 "metadata": {
  "kernelspec": {
   "display_name": "Python 3",
   "language": "python",
   "name": "python3"
  },
  "language_info": {
   "codemirror_mode": {
    "name": "ipython",
    "version": 3
   },
   "file_extension": ".py",
   "mimetype": "text/x-python",
   "name": "python",
   "nbconvert_exporter": "python",
   "pygments_lexer": "ipython3",
   "version": "3.6.5"
  }
 },
 "nbformat": 4,
 "nbformat_minor": 2
}
